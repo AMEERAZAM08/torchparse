{
 "cells": [
  {
   "cell_type": "code",
   "execution_count": 1,
   "metadata": {},
   "outputs": [],
   "source": [
    "import torch\n",
    "import torch.nn as nn\n",
    "\n",
    "from torchparse import parse_cfg"
   ]
  },
  {
   "cell_type": "code",
   "execution_count": 2,
   "metadata": {},
   "outputs": [],
   "source": [
    "# Easily define CRNN\n",
    "cfg_model = \"\"\"\n",
    "[input]\n",
    "    shape = [2, 200, 400]\n",
    "    \n",
    "[convs_module]\n",
    "    REPEATx3\n",
    "        [conv2d]\n",
    "            out_channels = 32\n",
    "            kernel_size = 3\n",
    "            stride = 1\n",
    "            padding = valid\n",
    "        [batchnorm2d]\n",
    "        [elu]\n",
    "        [maxpool2d]\n",
    "            kernel_size = 4\n",
    "            stride = 4\n",
    "        [dropout]\n",
    "            p = 0.1\n",
    "    END\n",
    "\n",
    "[moddims]\n",
    "    permute = [2,1,0]\n",
    "    collapse = [1,2]\n",
    "\n",
    "[recur_module]\n",
    "    [lstm]\n",
    "        hidden_size = 64\n",
    "        num_layers = 2\n",
    "\n",
    "[moddims]\n",
    "    permute = [1]\n",
    "\n",
    "[dense_module]\n",
    "    [dropout]\n",
    "        p = 0.3\n",
    "    [batchnorm1d]\n",
    "    [linear]\n",
    "        out_features = 10\n",
    "\"\"\""
   ]
  },
  {
   "cell_type": "code",
   "execution_count": 3,
   "metadata": {},
   "outputs": [
    {
     "name": "stderr",
     "output_type": "stream",
     "text": [
      "/workspaces/torchparse/torchparse/utils.py:54: UserWarning: __floordiv__ is deprecated, and its behavior will change in a future version of pytorch. It currently rounds toward 0 (like the 'trunc' function NOT 'floor'). This results in incorrect rounding for negative values. To keep the current behavior, use torch.div(a, b, rounding_mode='trunc'), or for actual floor division, use torch.div(a, b, rounding_mode='floor').\n",
      "  return (spatial + p2 - k)//s + 1\n"
     ]
    },
    {
     "data": {
      "text/plain": [
       "ModuleDict(\n",
       "  (convs): Sequential(\n",
       "    (conv2d_0): Conv2d(2, 32, kernel_size=(3, 3), stride=(1, 1))\n",
       "    (batchnorm2d_0): BatchNorm2d(32, eps=1e-05, momentum=0.1, affine=True, track_running_stats=True)\n",
       "    (elu_0): ELU(alpha=1.0)\n",
       "    (maxpool2d_0): MaxPool2d(kernel_size=4, stride=4, padding=0, dilation=1, ceil_mode=False)\n",
       "    (dropout_0): Dropout(p=0.1, inplace=False)\n",
       "    (conv2d_1): Conv2d(32, 32, kernel_size=(3, 3), stride=(1, 1))\n",
       "    (batchnorm2d_1): BatchNorm2d(32, eps=1e-05, momentum=0.1, affine=True, track_running_stats=True)\n",
       "    (elu_1): ELU(alpha=1.0)\n",
       "    (maxpool2d_1): MaxPool2d(kernel_size=4, stride=4, padding=0, dilation=1, ceil_mode=False)\n",
       "    (dropout_1): Dropout(p=0.1, inplace=False)\n",
       "    (conv2d_2): Conv2d(32, 32, kernel_size=(3, 3), stride=(1, 1))\n",
       "    (batchnorm2d_2): BatchNorm2d(32, eps=1e-05, momentum=0.1, affine=True, track_running_stats=True)\n",
       "    (elu_2): ELU(alpha=1.0)\n",
       "    (maxpool2d_2): MaxPool2d(kernel_size=4, stride=4, padding=0, dilation=1, ceil_mode=False)\n",
       "    (dropout_2): Dropout(p=0.1, inplace=False)\n",
       "  )\n",
       "  (recur): LSTM(64, 64, num_layers=2)\n",
       "  (dense): Sequential(\n",
       "    (dropout_3): Dropout(p=0.3, inplace=False)\n",
       "    (batchnorm1d_0): BatchNorm1d(64, eps=1e-05, momentum=0.1, affine=True, track_running_stats=True)\n",
       "    (linear_0): Linear(in_features=64, out_features=10, bias=True)\n",
       "  )\n",
       ")"
      ]
     },
     "execution_count": 3,
     "metadata": {},
     "output_type": "execute_result"
    }
   ],
   "source": [
    "# Get defined model\n",
    "parse_cfg(cfg_model)"
   ]
  },
  {
   "cell_type": "code",
   "execution_count": 4,
   "metadata": {},
   "outputs": [],
   "source": [
    "#Use it in a custom nn.Module\n",
    "class MyNet(nn.Module):\n",
    "    def __init__(self, cfg_model):\n",
    "        super(MyNet, self).__init__()\n",
    "        self.model = parse_cfg(cfg_model)\n",
    "\n",
    "    def forward(self, x):\n",
    "        x = self.model['convs'](x)\n",
    "        \n",
    "        # transpose channel and time\n",
    "        x = x.transpose(1,-1)\n",
    "        \n",
    "        # collapse height and channel\n",
    "        x = x.reshape(*x.shape[:2], -1)\n",
    "        x = self.model['recur'](x)[0]\n",
    "        \n",
    "        # many-to-one rnn\n",
    "        x = x[:,-1]\n",
    "        \n",
    "        x = self.model['dense'](x)\n",
    "        return x"
   ]
  },
  {
   "cell_type": "code",
   "execution_count": 7,
   "metadata": {},
   "outputs": [
    {
     "data": {
      "text/plain": [
       "torch.Size([16, 10])"
      ]
     },
     "execution_count": 7,
     "metadata": {},
     "output_type": "execute_result"
    }
   ],
   "source": [
    "m = MyNet(cfg_model)\n",
    "m(torch.randn(16, 2, 200, 400)).shape"
   ]
  }
 ],
 "metadata": {
  "kernelspec": {
   "display_name": "Python 3.10.4 64-bit",
   "language": "python",
   "name": "python3"
  },
  "language_info": {
   "codemirror_mode": {
    "name": "ipython",
    "version": 3
   },
   "file_extension": ".py",
   "mimetype": "text/x-python",
   "name": "python",
   "nbconvert_exporter": "python",
   "pygments_lexer": "ipython3",
   "version": "3.10.4"
  },
  "vscode": {
   "interpreter": {
    "hash": "4f946df053fbf2b937619d3c5458e7af74262f9a954d8797ba0b27400bcafe06"
   }
  }
 },
 "nbformat": 4,
 "nbformat_minor": 2
}
